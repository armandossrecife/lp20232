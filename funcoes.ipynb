{
  "nbformat": 4,
  "nbformat_minor": 0,
  "metadata": {
    "colab": {
      "provenance": [],
      "authorship_tag": "ABX9TyPTvnBHQ4Xe8pvoU82KQbdo",
      "include_colab_link": true
    },
    "kernelspec": {
      "name": "python3",
      "display_name": "Python 3"
    },
    "language_info": {
      "name": "python"
    }
  },
  "cells": [
    {
      "cell_type": "markdown",
      "metadata": {
        "id": "view-in-github",
        "colab_type": "text"
      },
      "source": [
        "<a href=\"https://colab.research.google.com/github/armandossrecife/lp20232/blob/main/funcoes.ipynb\" target=\"_parent\"><img src=\"https://colab.research.google.com/assets/colab-badge.svg\" alt=\"Open In Colab\"/></a>"
      ]
    },
    {
      "cell_type": "markdown",
      "source": [
        "# Funções em Python"
      ],
      "metadata": {
        "id": "uk-Kz8oB3N-8"
      }
    },
    {
      "cell_type": "code",
      "source": [
        "def somar(x, y):\n",
        "  return x+y\n",
        "\n",
        "def subtrair(x, y):\n",
        "  return x-y\n",
        "\n",
        "def multiplicar(x, y):\n",
        "  return x*y\n",
        "\n",
        "def dividir(x,y):\n",
        "  if y == 0:\n",
        "    return 'Erro: Divisão por Zero'\n",
        "\n",
        "  return x/y"
      ],
      "metadata": {
        "id": "6XhP-hOS3Puv"
      },
      "execution_count": 3,
      "outputs": []
    },
    {
      "cell_type": "code",
      "source": [
        "print(f'{somar(5,7)}')\n",
        "print(f'{subtrair(5,7)}')\n",
        "print(f'{multiplicar(5,7)}')\n",
        "print(f'{dividir(5,7)}')\n",
        "print(f'{dividir(5,0)}')"
      ],
      "metadata": {
        "colab": {
          "base_uri": "https://localhost:8080/"
        },
        "id": "rhTtgN9F3oiK",
        "outputId": "87b199c2-db01-4df3-aeba-77a2b89b3f69"
      },
      "execution_count": 4,
      "outputs": [
        {
          "output_type": "stream",
          "name": "stdout",
          "text": [
            "12\n",
            "-2\n",
            "35\n",
            "0.7142857142857143\n",
            "Erro: Divisão por Zero\n"
          ]
        }
      ]
    },
    {
      "cell_type": "markdown",
      "source": [
        "# Valores defaults"
      ],
      "metadata": {
        "id": "-_wXQojh4JCa"
      }
    },
    {
      "cell_type": "code",
      "source": [
        "def bem_vindo(usuario='Armando'):\n",
        "  print(f'Seja bem vindo {usuario}')"
      ],
      "metadata": {
        "id": "rDkpfnOk34D4"
      },
      "execution_count": 5,
      "outputs": []
    },
    {
      "cell_type": "code",
      "source": [
        "bem_vindo()"
      ],
      "metadata": {
        "colab": {
          "base_uri": "https://localhost:8080/"
        },
        "id": "mcTAoHFJ4ggD",
        "outputId": "aeb322d3-6586-4d7d-d282-34375a265c5d"
      },
      "execution_count": 9,
      "outputs": [
        {
          "output_type": "stream",
          "name": "stdout",
          "text": [
            "Seja bem vindo Armando\n"
          ]
        }
      ]
    },
    {
      "cell_type": "code",
      "source": [
        "bem_vindo(usuario='Carla')"
      ],
      "metadata": {
        "colab": {
          "base_uri": "https://localhost:8080/"
        },
        "id": "Acd5rDBY4g_q",
        "outputId": "72430863-fedc-4fcf-a1fc-2ee526a419c4"
      },
      "execution_count": 10,
      "outputs": [
        {
          "output_type": "stream",
          "name": "stdout",
          "text": [
            "Seja bem vindo Carla\n"
          ]
        }
      ]
    },
    {
      "cell_type": "markdown",
      "source": [
        "# Funções com quantidade de parâmetros variável\n",
        "\n",
        "parâmetro *argv representa uma tupla de N valores\n",
        "\n",
        "parâmetro **kargs representa um dicionario de N itens (chave, valor)"
      ],
      "metadata": {
        "id": "aTvezv9T48VS"
      }
    },
    {
      "cell_type": "code",
      "source": [
        "def minhas_palavras(*argv):\n",
        "  for palavra in argv:\n",
        "    print(palavra)"
      ],
      "metadata": {
        "id": "PBbmkmXl4m8x"
      },
      "execution_count": 16,
      "outputs": []
    },
    {
      "cell_type": "code",
      "source": [
        "minhas_palavras('Armando', 'Soares', 'Sousa')"
      ],
      "metadata": {
        "colab": {
          "base_uri": "https://localhost:8080/"
        },
        "id": "6ASaY3Yw5MVw",
        "outputId": "9d180955-cc51-4675-c7cb-610ecfb5285c"
      },
      "execution_count": 15,
      "outputs": [
        {
          "output_type": "stream",
          "name": "stdout",
          "text": [
            "Armando\n",
            "Soares\n",
            "Sousa\n"
          ]
        }
      ]
    },
    {
      "cell_type": "code",
      "source": [
        "minhas_palavras('Maria', 'Joaquina', 'Amaral', 'Pereira', 'Goes')"
      ],
      "metadata": {
        "colab": {
          "base_uri": "https://localhost:8080/"
        },
        "id": "s2uDzGrQ5WE8",
        "outputId": "01d4879c-d863-4dbc-b71d-131203ea6359"
      },
      "execution_count": 13,
      "outputs": [
        {
          "output_type": "stream",
          "name": "stdout",
          "text": [
            "Maria\n",
            "Joaquina\n",
            "Amaral\n",
            "Pereira\n",
            "Goes\n"
          ]
        }
      ]
    },
    {
      "cell_type": "code",
      "source": [
        "def nome_completo(**kargs):\n",
        "  for chave, valor in kargs.items():\n",
        "    print(chave, valor)"
      ],
      "metadata": {
        "id": "s1Kawpb85ckA"
      },
      "execution_count": 20,
      "outputs": []
    },
    {
      "cell_type": "code",
      "source": [
        "nome_completo(primeiro_nome='Armando', nome_do_meio='Soares', ultimo_nome='Sousa')"
      ],
      "metadata": {
        "colab": {
          "base_uri": "https://localhost:8080/"
        },
        "id": "y8oGqnnz6RuY",
        "outputId": "daff57a3-d9df-4ac6-9c4d-c8994aa9bc35"
      },
      "execution_count": 21,
      "outputs": [
        {
          "output_type": "stream",
          "name": "stdout",
          "text": [
            "primeiro_nome Armando\n",
            "nome_do_meio Soares\n",
            "ultimo_nome Sousa\n"
          ]
        }
      ]
    },
    {
      "cell_type": "code",
      "source": [
        "def meu_contato(**kargs):\n",
        "  for chave, valor in kargs.items():\n",
        "    print(chave, valor)"
      ],
      "metadata": {
        "id": "edaXM-Hv6hJU"
      },
      "execution_count": 23,
      "outputs": []
    },
    {
      "cell_type": "code",
      "source": [
        "meu_contato(nome='Carla', email='carla@g.com', telefones=['8699432123', '86977665544'])"
      ],
      "metadata": {
        "colab": {
          "base_uri": "https://localhost:8080/"
        },
        "id": "Gx1GwLCA6uvy",
        "outputId": "b1764789-a807-4dcf-ce19-4b8bfc6cb224"
      },
      "execution_count": 24,
      "outputs": [
        {
          "output_type": "stream",
          "name": "stdout",
          "text": [
            "nome Carla\n",
            "email carla@g.com\n",
            "telefones ['8699432123', '86977665544']\n"
          ]
        }
      ]
    },
    {
      "cell_type": "markdown",
      "source": [
        "# Números randômicos\n",
        "\n",
        "módulo random\n",
        "\n",
        "https://docs.python.org/pt-br/3/library/random.html"
      ],
      "metadata": {
        "id": "4MWoLeP37GHg"
      }
    },
    {
      "cell_type": "code",
      "source": [
        "import random\n",
        "\n",
        "numero_randomico = random.random()\n",
        "\n",
        "print(numero_randomico)"
      ],
      "metadata": {
        "colab": {
          "base_uri": "https://localhost:8080/"
        },
        "id": "jJeLxfeX67X4",
        "outputId": "deee0467-0a16-40fd-e39b-07042379fe39"
      },
      "execution_count": 34,
      "outputs": [
        {
          "output_type": "stream",
          "name": "stdout",
          "text": [
            "0.3873125054880353\n"
          ]
        }
      ]
    },
    {
      "cell_type": "code",
      "source": [
        "# intervalor fechado para limite inferior e superior\n",
        "numero_randomico_inteiro = random.randint(1,10)\n",
        "\n",
        "print(numero_randomico_inteiro)"
      ],
      "metadata": {
        "colab": {
          "base_uri": "https://localhost:8080/"
        },
        "id": "3lSmxf0b7Sfe",
        "outputId": "33ae6d5a-1add-451c-e54a-b79df35e5d6f"
      },
      "execution_count": 26,
      "outputs": [
        {
          "output_type": "stream",
          "name": "stdout",
          "text": [
            "4\n"
          ]
        }
      ]
    },
    {
      "cell_type": "markdown",
      "source": [
        "## Valores randômicos em listas"
      ],
      "metadata": {
        "id": "ogxFYl2E-Iyp"
      }
    },
    {
      "cell_type": "code",
      "source": [
        "nomes = [\"Maria\", \"Joaquina\", \"Amaral\", \"Pereira\", \"Goes\"]\n",
        "random.shuffle(nomes)\n",
        "\n",
        "print(nomes)"
      ],
      "metadata": {
        "colab": {
          "base_uri": "https://localhost:8080/"
        },
        "id": "wWQIc3eE7iLw",
        "outputId": "cc60e0c9-4d00-4dd8-c74c-52dfdea2a6d3"
      },
      "execution_count": 44,
      "outputs": [
        {
          "output_type": "stream",
          "name": "stdout",
          "text": [
            "['Goes', 'Pereira', 'Amaral', 'Joaquina', 'Maria']\n"
          ]
        }
      ]
    },
    {
      "cell_type": "code",
      "source": [
        "numeros = [10, 5, 20, 37, 40, 23]\n",
        "random.shuffle(numeros)\n",
        "\n",
        "print(numeros)"
      ],
      "metadata": {
        "colab": {
          "base_uri": "https://localhost:8080/"
        },
        "id": "OX460ZCF7u_X",
        "outputId": "49943c2f-84db-4f17-de38-6e4abbb361f7"
      },
      "execution_count": 45,
      "outputs": [
        {
          "output_type": "stream",
          "name": "stdout",
          "text": [
            "[5, 20, 40, 10, 23, 37]\n"
          ]
        }
      ]
    },
    {
      "cell_type": "markdown",
      "source": [
        "## Choice\n",
        "\n",
        "escolha aleatória"
      ],
      "metadata": {
        "id": "Pj9Bz1CR-N4g"
      }
    },
    {
      "cell_type": "code",
      "source": [
        "random.choice(nomes)"
      ],
      "metadata": {
        "colab": {
          "base_uri": "https://localhost:8080/",
          "height": 35
        },
        "id": "wwI1w4yV-Di6",
        "outputId": "26356ce9-c95a-4854-b554-0038d4430ebf"
      },
      "execution_count": 48,
      "outputs": [
        {
          "output_type": "execute_result",
          "data": {
            "text/plain": [
              "'Pereira'"
            ],
            "application/vnd.google.colaboratory.intrinsic+json": {
              "type": "string"
            }
          },
          "metadata": {},
          "execution_count": 48
        }
      ]
    },
    {
      "cell_type": "code",
      "source": [
        "random.choice(numeros)"
      ],
      "metadata": {
        "colab": {
          "base_uri": "https://localhost:8080/"
        },
        "id": "hZDdlKt9-VWM",
        "outputId": "17fa31da-e6fd-4860-db52-21cd7c264b62"
      },
      "execution_count": 49,
      "outputs": [
        {
          "output_type": "execute_result",
          "data": {
            "text/plain": [
              "23"
            ]
          },
          "metadata": {},
          "execution_count": 49
        }
      ]
    },
    {
      "cell_type": "markdown",
      "source": [
        "# Básico de data e hora\n",
        "\n",
        "Módulo datetime\n",
        "\n",
        "https://docs.python.org/pt-br/3.10/library/datetime.html"
      ],
      "metadata": {
        "id": "AjnuoPtQ-mrL"
      }
    },
    {
      "cell_type": "code",
      "source": [
        "import datetime"
      ],
      "metadata": {
        "id": "WJOwFCB_-Ykc"
      },
      "execution_count": 53,
      "outputs": []
    },
    {
      "cell_type": "code",
      "source": [
        "hoje = datetime.date.today()\n",
        "\n",
        "print(f'hoje: {hoje}')"
      ],
      "metadata": {
        "colab": {
          "base_uri": "https://localhost:8080/"
        },
        "id": "LDW5obke_EqR",
        "outputId": "deab9f43-b74a-413b-bf74-148a8e0f6b9c"
      },
      "execution_count": 54,
      "outputs": [
        {
          "output_type": "stream",
          "name": "stdout",
          "text": [
            "hoje: 2023-12-11\n"
          ]
        }
      ]
    },
    {
      "cell_type": "code",
      "source": [
        "data_completa = datetime.datetime.now()\n",
        "\n",
        "print(f'Data de hoje: {data_completa}')"
      ],
      "metadata": {
        "colab": {
          "base_uri": "https://localhost:8080/"
        },
        "id": "erFKQvyF_NE3",
        "outputId": "0c161af5-7da9-4a3b-91f8-c372ded42236"
      },
      "execution_count": 56,
      "outputs": [
        {
          "output_type": "stream",
          "name": "stdout",
          "text": [
            "Data de hoje: 2023-12-11 13:08:03.684997\n"
          ]
        }
      ]
    },
    {
      "cell_type": "code",
      "source": [
        "# Atributos de datetime\n",
        "#  Atributos: year, month, day, hour, minute, second, microsecond, e tzinfo.\n",
        "\n",
        "print(f'Ano: {data_completa.year}')\n",
        "print(f'mês: {data_completa.month}')\n",
        "print(f'hora: {data_completa.hour}')\n",
        "print(f'minuto: {data_completa.minute}')\n",
        "print(f'segundo: {data_completa.second}')\n",
        "print(f'milisegundo: {data_completa.microsecond}')"
      ],
      "metadata": {
        "colab": {
          "base_uri": "https://localhost:8080/"
        },
        "id": "3y7td0v0AlxY",
        "outputId": "5aa1953e-42a2-4b90-ea46-6935495f841c"
      },
      "execution_count": 60,
      "outputs": [
        {
          "output_type": "stream",
          "name": "stdout",
          "text": [
            "Ano: 2023\n",
            "mês: 12\n",
            "hora: 13\n",
            "minuto: 8\n",
            "segundo: 3\n",
            "milisegundo: 684997\n"
          ]
        }
      ]
    },
    {
      "cell_type": "code",
      "source": [
        "# Data formatada strftime\n",
        "\n",
        "print(f\"Data: {data_completa.strftime('%d/%m/%Y')}\")"
      ],
      "metadata": {
        "colab": {
          "base_uri": "https://localhost:8080/"
        },
        "id": "dTYF9WwN_Zd-",
        "outputId": "2de90832-3d5f-45c4-b30e-5b334546e51e"
      },
      "execution_count": 57,
      "outputs": [
        {
          "output_type": "stream",
          "name": "stdout",
          "text": [
            "Data: 11/12/2023\n"
          ]
        }
      ]
    },
    {
      "cell_type": "code",
      "source": [
        "print(f\"Data: {data_completa.strftime('%d/%m/%Y %H:%M:%S')}\")"
      ],
      "metadata": {
        "colab": {
          "base_uri": "https://localhost:8080/"
        },
        "id": "J9moH7QdALm_",
        "outputId": "086abff1-503b-4ea9-ded6-35df952f4a4e"
      },
      "execution_count": 58,
      "outputs": [
        {
          "output_type": "stream",
          "name": "stdout",
          "text": [
            "Data: 11/12/2023 13:08:03\n"
          ]
        }
      ]
    }
  ]
}