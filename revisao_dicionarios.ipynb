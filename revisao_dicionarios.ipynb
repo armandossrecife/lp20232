{
  "nbformat": 4,
  "nbformat_minor": 0,
  "metadata": {
    "colab": {
      "provenance": [],
      "authorship_tag": "ABX9TyNOnt/wCWl/aESZ2rjx1OKc",
      "include_colab_link": true
    },
    "kernelspec": {
      "name": "python3",
      "display_name": "Python 3"
    },
    "language_info": {
      "name": "python"
    }
  },
  "cells": [
    {
      "cell_type": "markdown",
      "metadata": {
        "id": "view-in-github",
        "colab_type": "text"
      },
      "source": [
        "<a href=\"https://colab.research.google.com/github/armandossrecife/lp20232/blob/main/revisao_dicionarios.ipynb\" target=\"_parent\"><img src=\"https://colab.research.google.com/assets/colab-badge.svg\" alt=\"Open In Colab\"/></a>"
      ]
    },
    {
      "cell_type": "markdown",
      "source": [
        "# Criando um dicionário"
      ],
      "metadata": {
        "id": "Dxa-ZVUJ0wlS"
      }
    },
    {
      "cell_type": "code",
      "source": [
        "pessoas = {}\n",
        "\n",
        "pessoas['111'] = 'Armando'\n",
        "pessoas['222'] = 'Maria'\n",
        "pessoas['333'] = 'Carla'"
      ],
      "metadata": {
        "id": "peOgdzoncV-N"
      },
      "execution_count": 2,
      "outputs": []
    },
    {
      "cell_type": "markdown",
      "source": [
        "# Chaves de um dicionário"
      ],
      "metadata": {
        "id": "M4jfhSjX091J"
      }
    },
    {
      "cell_type": "code",
      "source": [
        "pessoas.keys()"
      ],
      "metadata": {
        "id": "y-FmttF1sSMP",
        "outputId": "c8722c51-ff1e-47a3-ec75-f3924e1606d2",
        "colab": {
          "base_uri": "https://localhost:8080/"
        }
      },
      "execution_count": 3,
      "outputs": [
        {
          "output_type": "execute_result",
          "data": {
            "text/plain": [
              "dict_keys(['111', '222', '333'])"
            ]
          },
          "metadata": {},
          "execution_count": 3
        }
      ]
    },
    {
      "cell_type": "code",
      "source": [
        "for chave in pessoas.keys():\n",
        "  print(chave)"
      ],
      "metadata": {
        "id": "hsVeCWehsVhS",
        "outputId": "2340cfe7-31bd-4883-a0a8-a5b096e589d4",
        "colab": {
          "base_uri": "https://localhost:8080/"
        }
      },
      "execution_count": 4,
      "outputs": [
        {
          "output_type": "stream",
          "name": "stdout",
          "text": [
            "111\n",
            "222\n",
            "333\n"
          ]
        }
      ]
    },
    {
      "cell_type": "markdown",
      "source": [
        "# Valores de um dicionário"
      ],
      "metadata": {
        "id": "H2pwHKNH04c1"
      }
    },
    {
      "cell_type": "code",
      "source": [
        "pessoas.values()"
      ],
      "metadata": {
        "id": "aSs0xadOs440",
        "outputId": "63293a0f-bd4f-4d3e-81f2-c6731f21512b",
        "colab": {
          "base_uri": "https://localhost:8080/"
        }
      },
      "execution_count": 5,
      "outputs": [
        {
          "output_type": "execute_result",
          "data": {
            "text/plain": [
              "dict_values(['Armando', 'Maria', 'Carla'])"
            ]
          },
          "metadata": {},
          "execution_count": 5
        }
      ]
    },
    {
      "cell_type": "code",
      "source": [
        "for valor in pessoas.values():\n",
        "  print(valor)"
      ],
      "metadata": {
        "id": "dfJVlL0zs-VU",
        "outputId": "92abbefa-02aa-4935-9d5f-8da7bf631f71",
        "colab": {
          "base_uri": "https://localhost:8080/"
        }
      },
      "execution_count": 6,
      "outputs": [
        {
          "output_type": "stream",
          "name": "stdout",
          "text": [
            "Armando\n",
            "Maria\n",
            "Carla\n"
          ]
        }
      ]
    },
    {
      "cell_type": "markdown",
      "source": [
        "# Itens de um dicionário"
      ],
      "metadata": {
        "id": "SDmEDrDn1BR6"
      }
    },
    {
      "cell_type": "code",
      "source": [
        "for k, v in pessoas.items():\n",
        "  print(k, v)"
      ],
      "metadata": {
        "id": "N-V7gz8dtBSc",
        "outputId": "fc803e47-52cc-4058-d942-1dbd08e2e26c",
        "colab": {
          "base_uri": "https://localhost:8080/"
        }
      },
      "execution_count": 7,
      "outputs": [
        {
          "output_type": "stream",
          "name": "stdout",
          "text": [
            "111 Armando\n",
            "222 Maria\n",
            "333 Carla\n"
          ]
        }
      ]
    },
    {
      "cell_type": "markdown",
      "source": [
        "# Checa se um dado aperece em um dicionário\n",
        "\n",
        "Obs: válido apenas para consultar valores das chaves"
      ],
      "metadata": {
        "id": "CPLLxeQQ1Fbv"
      }
    },
    {
      "cell_type": "code",
      "source": [
        "'222' in pessoas"
      ],
      "metadata": {
        "id": "At6POrO7tI-Z",
        "outputId": "c725f02c-f296-417c-f137-59aaf57e4085",
        "colab": {
          "base_uri": "https://localhost:8080/"
        }
      },
      "execution_count": 8,
      "outputs": [
        {
          "output_type": "execute_result",
          "data": {
            "text/plain": [
              "True"
            ]
          },
          "metadata": {},
          "execution_count": 8
        }
      ]
    },
    {
      "cell_type": "code",
      "source": [
        "'444' in pessoas"
      ],
      "metadata": {
        "id": "-WdvjV3mtVNp",
        "outputId": "ebdbd549-f735-495f-95c5-1ba26288df94",
        "colab": {
          "base_uri": "https://localhost:8080/"
        }
      },
      "execution_count": 9,
      "outputs": [
        {
          "output_type": "execute_result",
          "data": {
            "text/plain": [
              "False"
            ]
          },
          "metadata": {},
          "execution_count": 9
        }
      ]
    },
    {
      "cell_type": "markdown",
      "source": [
        "# Atualizando um dicionário"
      ],
      "metadata": {
        "id": "7vuLEJg_1Pms"
      }
    },
    {
      "cell_type": "code",
      "source": [
        "pessoas['333'] = 'Ana'"
      ],
      "metadata": {
        "id": "K-aQcDnitdH4"
      },
      "execution_count": 10,
      "outputs": []
    },
    {
      "cell_type": "code",
      "source": [
        "pessoas.values()"
      ],
      "metadata": {
        "id": "N5YZsvM7tnZv",
        "outputId": "7d6979aa-2f5f-4cd8-fcaa-f2c5e9188563",
        "colab": {
          "base_uri": "https://localhost:8080/"
        }
      },
      "execution_count": 11,
      "outputs": [
        {
          "output_type": "execute_result",
          "data": {
            "text/plain": [
              "dict_values(['Armando', 'Maria', 'Ana'])"
            ]
          },
          "metadata": {},
          "execution_count": 11
        }
      ]
    },
    {
      "cell_type": "code",
      "source": [
        "pessoas.keys()"
      ],
      "metadata": {
        "id": "rJ5a5QFTtpKP",
        "outputId": "7a690b76-65bd-40a9-c37a-47f15ae149b7",
        "colab": {
          "base_uri": "https://localhost:8080/"
        }
      },
      "execution_count": 12,
      "outputs": [
        {
          "output_type": "execute_result",
          "data": {
            "text/plain": [
              "dict_keys(['111', '222', '333'])"
            ]
          },
          "metadata": {},
          "execution_count": 12
        }
      ]
    },
    {
      "cell_type": "markdown",
      "source": [
        "# Copiando dados de um dicionário"
      ],
      "metadata": {
        "id": "jYgUbS7w1UlI"
      }
    },
    {
      "cell_type": "code",
      "source": [
        "pessoas_aux = pessoas.copy()"
      ],
      "metadata": {
        "id": "hX_NXh1j1YFN"
      },
      "execution_count": 13,
      "outputs": []
    },
    {
      "cell_type": "code",
      "source": [
        "for k, v in pessoas_aux.items():\n",
        "  print(k, v)"
      ],
      "metadata": {
        "colab": {
          "base_uri": "https://localhost:8080/"
        },
        "id": "evDOO7011qiY",
        "outputId": "33dfc5d7-6732-4b34-a539-14506b55bf45"
      },
      "execution_count": 15,
      "outputs": [
        {
          "output_type": "stream",
          "name": "stdout",
          "text": [
            "111 Armando\n",
            "222 Maria\n",
            "333 Ana\n"
          ]
        }
      ]
    },
    {
      "cell_type": "markdown",
      "source": [
        "## Para Python >= 3.10"
      ],
      "metadata": {
        "id": "6RZA_iRN1mjl"
      }
    },
    {
      "cell_type": "code",
      "source": [
        "pessoas2 = pessoas"
      ],
      "metadata": {
        "id": "kCq9r92-trvP"
      },
      "execution_count": 14,
      "outputs": []
    },
    {
      "cell_type": "code",
      "source": [
        "for each in pessoas2.items():\n",
        "  print(each)"
      ],
      "metadata": {
        "id": "do4uEoRUzKC6",
        "outputId": "0b71adc6-a222-4f64-caa6-3ec837f29a0f",
        "colab": {
          "base_uri": "https://localhost:8080/"
        }
      },
      "execution_count": null,
      "outputs": [
        {
          "output_type": "stream",
          "name": "stdout",
          "text": [
            "('111', 'Armando')\n",
            "('222', 'Maria')\n",
            "('333', 'Ana')\n"
          ]
        }
      ]
    },
    {
      "cell_type": "markdown",
      "source": [
        "# Dicionários aninhados"
      ],
      "metadata": {
        "id": "M2q55eWm1w-P"
      }
    },
    {
      "cell_type": "code",
      "source": [
        "# dicionários aninhados\n",
        "\n",
        "alunos_ufpi = {}\n",
        "\n",
        "aluno1 = {'nome':'Carla', 'curso':'Ciência da Computação', 'ano_nascimento':1999}\n",
        "aluno2 = {'nome': 'Maria', 'ano_nascimento': 1980}\n",
        "aluno3 = {'nome': 'Ana', 'ano_nascimento': 1990}"
      ],
      "metadata": {
        "id": "D7DbFysdzOXP"
      },
      "execution_count": 16,
      "outputs": []
    },
    {
      "cell_type": "code",
      "source": [
        "alunos_ufpi = {\n",
        "    '1111222333':aluno1,\n",
        "    '1231231234':aluno2,\n",
        "    '2344567892':aluno3\n",
        "}"
      ],
      "metadata": {
        "id": "gWXKl5H-zs3V"
      },
      "execution_count": 17,
      "outputs": []
    },
    {
      "cell_type": "code",
      "source": [
        "for k, v in alunos_ufpi.items():\n",
        "  print(k, v)"
      ],
      "metadata": {
        "id": "t3bWQVREz4fd",
        "outputId": "e5c9c044-320f-4796-8eb1-4ce88ab951cf",
        "colab": {
          "base_uri": "https://localhost:8080/"
        }
      },
      "execution_count": 18,
      "outputs": [
        {
          "output_type": "stream",
          "name": "stdout",
          "text": [
            "1111222333 {'nome': 'Carla', 'curso': 'Ciência da Computação', 'ano_nascimento': 1999}\n",
            "1231231234 {'nome': 'Maria', 'ano_nascimento': 1980}\n",
            "2344567892 {'nome': 'Ana', 'ano_nascimento': 1990}\n"
          ]
        }
      ]
    },
    {
      "cell_type": "code",
      "source": [
        "alunos_ufpi['1111222333']['nome']"
      ],
      "metadata": {
        "id": "sOy7IsJez920",
        "outputId": "c20f5bc5-2d7c-461a-c254-0281769e30d6",
        "colab": {
          "base_uri": "https://localhost:8080/",
          "height": 35
        }
      },
      "execution_count": 19,
      "outputs": [
        {
          "output_type": "execute_result",
          "data": {
            "text/plain": [
              "'Carla'"
            ],
            "application/vnd.google.colaboratory.intrinsic+json": {
              "type": "string"
            }
          },
          "metadata": {},
          "execution_count": 19
        }
      ]
    },
    {
      "cell_type": "code",
      "source": [
        "alunos_ufpi['1111222333']['curso']"
      ],
      "metadata": {
        "colab": {
          "base_uri": "https://localhost:8080/",
          "height": 35
        },
        "id": "QK2-a7DA2S2S",
        "outputId": "babd9f3b-8267-4738-dae6-4ac0ea7dcbc5"
      },
      "execution_count": 21,
      "outputs": [
        {
          "output_type": "execute_result",
          "data": {
            "text/plain": [
              "'Ciência da Computação'"
            ],
            "application/vnd.google.colaboratory.intrinsic+json": {
              "type": "string"
            }
          },
          "metadata": {},
          "execution_count": 21
        }
      ]
    },
    {
      "cell_type": "code",
      "source": [
        "alunos_ufpi['1111222333']['ano_nascimento']"
      ],
      "metadata": {
        "id": "HGCXoAC-0IGk",
        "outputId": "1a0b4d22-efb9-497a-a476-e7798d6e4bcb",
        "colab": {
          "base_uri": "https://localhost:8080/"
        }
      },
      "execution_count": 22,
      "outputs": [
        {
          "output_type": "execute_result",
          "data": {
            "text/plain": [
              "1999"
            ]
          },
          "metadata": {},
          "execution_count": 22
        }
      ]
    },
    {
      "cell_type": "markdown",
      "source": [
        "# Mini agenda usando dicionário"
      ],
      "metadata": {
        "id": "RsyhypQD2dAP"
      }
    },
    {
      "cell_type": "code",
      "source": [
        "'''\n",
        "ler dados de um aluno\n",
        "Guardar os alunos em um dicionario\n",
        "Inserir um aluno no dicionario\n",
        "Listar os alunos cadastrados no dicionario\n",
        "Criar um menu de opcoes (1. Inserir aluno, 2. Listar alunos cadastrados, 3. Sair)\n",
        "'''\n",
        "\n",
        "dicionario_alunos = {}\n",
        "\n",
        "def ler_dados_aluno():\n",
        "  matricula = input(\"Qual a matrícula? \")\n",
        "  nome = input(\"Qual o nome? \")\n",
        "  notas = input(\"Digite 3 notas separadas por vírgula: \")\n",
        "  notas = notas.split(',')\n",
        "  aluno = (matricula, nome, notas)\n",
        "  return aluno\n",
        "\n",
        "def inserir_aluno(aluno):\n",
        "  chave = aluno[0]\n",
        "  dados_aluno = (aluno[1], aluno[2])\n",
        "  dicionario_alunos[chave] = dados_aluno\n",
        "  print(\"aluno inserido com sucesso!\")\n",
        "\n",
        "def listar_alunos():\n",
        "  for item in dicionario_alunos.items():\n",
        "    print(item)\n",
        "\n",
        "def meu_menu():\n",
        "  print(\"1. Inserir aluno\")\n",
        "  print(\"2. Listar alunos cadastrados\")\n",
        "  print(\"3. Sair\")\n",
        "\n",
        "aluno_temp = None\n",
        "while(True):\n",
        "  meu_menu()\n",
        "  opcao = input(\"Qual sua opção? \")\n",
        "  if opcao == '1':\n",
        "    aluno_temp = ler_dados_aluno()\n",
        "    inserir_aluno(aluno_temp)\n",
        "  elif opcao == '2':\n",
        "    listar_alunos()\n",
        "  elif opcao == '3':\n",
        "    break\n",
        "  else:\n",
        "    print(\"Opcao inválida!\")"
      ],
      "metadata": {
        "id": "MeuBjYAD0Mb1",
        "colab": {
          "base_uri": "https://localhost:8080/"
        },
        "outputId": "5aad76bd-7440-4131-f9a2-db22e4223434"
      },
      "execution_count": 23,
      "outputs": [
        {
          "name": "stdout",
          "output_type": "stream",
          "text": [
            "1. Inserir aluno\n",
            "2. Listar alunos cadastrados\n",
            "3. Sair\n",
            "Qual sua opção? 1\n",
            "Qual a matrícula? 1\n",
            "Qual o nome? Maria\n",
            "Digite 3 notas separadas por vírgula: 10, 8, 9\n",
            "aluno inserido com sucesso!\n",
            "1. Inserir aluno\n",
            "2. Listar alunos cadastrados\n",
            "3. Sair\n",
            "Qual sua opção? 2\n",
            "('1', ('Maria', ['10', ' 8', ' 9']))\n",
            "1. Inserir aluno\n",
            "2. Listar alunos cadastrados\n",
            "3. Sair\n",
            "Qual sua opção? 3\n"
          ]
        }
      ]
    }
  ]
}